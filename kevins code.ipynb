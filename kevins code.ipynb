{
 "cells": [
  {
   "cell_type": "code",
   "execution_count": 4,
   "metadata": {
    "collapsed": false
   },
   "outputs": [],
   "source": [
    "from osgeo import osr\n",
    "from osgeo import ogr"
   ]
  },
  {
   "cell_type": "code",
   "execution_count": 5,
   "metadata": {
    "collapsed": false
   },
   "outputs": [
    {
     "name": "stdout",
     "output_type": "stream",
     "text": [
      "6\n",
      "6\n",
      "-112.25 33.0\n",
      "-112.25 43.75\n"
     ]
    }
   ],
   "source": [
    "point = ogr.Geometry(ogr.wkbPoint)\n",
    "point.AddPoint_2D(-112.25,33)\n",
    "point2 = ogr.Geometry(ogr.wkbPoint)\n",
    "point2.AddPoint_2D(-112.25,43.75)\n",
    "wgs84_proj = osr.SpatialReference()\n",
    "wgs84_proj.ImportFromEPSG(4326)\n",
    "proj1 = osr.SpatialReference()\n",
    "proj1.SetLCC(28.0, 50.0, 39.70001220694445, -98, 0, 0)\n",
    "proj1.SetGeogCS('WRF-Sphere', 'Sphere', '', 6370000.0, 0.0) \n",
    "transform = osr.CoordinateTransformation(wgs84_proj, proj1)\n",
    "print point.TransformTo(proj1)\n",
    "print point2.TransformTo(proj1)\n",
    "print point.GetX(0), point.GetY(0)\n",
    "print point2.GetX(0), point2.GetY(0)"
   ]
  },
  {
   "cell_type": "code",
   "execution_count": 6,
   "metadata": {
    "collapsed": false
   },
   "outputs": [
    {
     "name": "stdout",
     "output_type": "stream",
     "text": [
      "PROJCS[\"unnamed\",\n",
      "    GEOGCS[\"WRF-Sphere\",\n",
      "        DATUM[\"Sphere\",\n",
      "            SPHEROID[,6370000,0]],\n",
      "        PRIMEM[\"Greenwich\",0],\n",
      "        UNIT[\"degree\",0.0174532925199433]],\n",
      "    PROJECTION[\"Lambert_Conformal_Conic_2SP\"],\n",
      "    PARAMETER[\"standard_parallel_1\",28],\n",
      "    PARAMETER[\"standard_parallel_2\",50],\n",
      "    PARAMETER[\"latitude_of_origin\",39.70001220694445],\n",
      "    PARAMETER[\"central_meridian\",-98],\n",
      "    PARAMETER[\"false_easting\",0],\n",
      "    PARAMETER[\"false_northing\",0]]\n"
     ]
    }
   ],
   "source": [
    "print proj1"
   ]
  },
  {
   "cell_type": "code",
   "execution_count": 7,
   "metadata": {
    "collapsed": false
   },
   "outputs": [
    {
     "ename": "SyntaxError",
     "evalue": "invalid syntax (<ipython-input-7-51ccd8a6090e>, line 1)",
     "output_type": "error",
     "traceback": [
      "\u001b[0;36m  File \u001b[0;32m\"<ipython-input-7-51ccd8a6090e>\"\u001b[0;36m, line \u001b[0;32m1\u001b[0m\n\u001b[0;31m    which osgeo\u001b[0m\n\u001b[0m              ^\u001b[0m\n\u001b[0;31mSyntaxError\u001b[0m\u001b[0;31m:\u001b[0m invalid syntax\n"
     ]
    }
   ],
   "source": [
    "which osgeo"
   ]
  },
  {
   "cell_type": "code",
   "execution_count": 8,
   "metadata": {
    "collapsed": false
   },
   "outputs": [
    {
     "ename": "TypeError",
     "evalue": "in method 'Geometry_Transform', argument 2 of type 'OSRCoordinateTransformationShadow *'",
     "output_type": "error",
     "traceback": [
      "\u001b[0;31m---------------------------------------------------------------------------\u001b[0m",
      "\u001b[0;31mTypeError\u001b[0m                                 Traceback (most recent call last)",
      "\u001b[0;32m<ipython-input-8-c5a5c9a5af64>\u001b[0m in \u001b[0;36m<module>\u001b[0;34m()\u001b[0m\n\u001b[0;32m----> 1\u001b[0;31m \u001b[0mpoint\u001b[0m\u001b[0;34m.\u001b[0m\u001b[0mTransform\u001b[0m\u001b[0;34m(\u001b[0m\u001b[0mtransform\u001b[0m\u001b[0;34m)\u001b[0m\u001b[0;34m\u001b[0m\u001b[0m\n\u001b[0m",
      "\u001b[0;32m/Users/barnhatb/anaconda/lib/python2.7/site-packages/osgeo/ogr.pyc\u001b[0m in \u001b[0;36mTransform\u001b[0;34m(self, *args)\u001b[0m\n\u001b[1;32m   4880\u001b[0m         \u001b[0mOGRERR_NONE\u001b[0m \u001b[0mon\u001b[0m \u001b[0msuccess\u001b[0m \u001b[0;32mor\u001b[0m \u001b[0man\u001b[0m \u001b[0merror\u001b[0m \u001b[0mcode\u001b[0m\u001b[0;34m.\u001b[0m\u001b[0;34m\u001b[0m\u001b[0m\n\u001b[1;32m   4881\u001b[0m         \"\"\"\n\u001b[0;32m-> 4882\u001b[0;31m         \u001b[0;32mreturn\u001b[0m \u001b[0m_ogr\u001b[0m\u001b[0;34m.\u001b[0m\u001b[0mGeometry_Transform\u001b[0m\u001b[0;34m(\u001b[0m\u001b[0mself\u001b[0m\u001b[0;34m,\u001b[0m \u001b[0;34m*\u001b[0m\u001b[0margs\u001b[0m\u001b[0;34m)\u001b[0m\u001b[0;34m\u001b[0m\u001b[0m\n\u001b[0m\u001b[1;32m   4883\u001b[0m \u001b[0;34m\u001b[0m\u001b[0m\n\u001b[1;32m   4884\u001b[0m     \u001b[0;32mdef\u001b[0m \u001b[0mGetSpatialReference\u001b[0m\u001b[0;34m(\u001b[0m\u001b[0mself\u001b[0m\u001b[0;34m,\u001b[0m \u001b[0;34m*\u001b[0m\u001b[0margs\u001b[0m\u001b[0;34m)\u001b[0m\u001b[0;34m:\u001b[0m\u001b[0;34m\u001b[0m\u001b[0m\n",
      "\u001b[0;31mTypeError\u001b[0m: in method 'Geometry_Transform', argument 2 of type 'OSRCoordinateTransformationShadow *'"
     ]
    }
   ],
   "source": [
    "point.Transform(transform)"
   ]
  },
  {
   "cell_type": "code",
   "execution_count": null,
   "metadata": {
    "collapsed": true
   },
   "outputs": [],
   "source": []
  }
 ],
 "metadata": {
  "kernelspec": {
   "display_name": "Python 2",
   "language": "python",
   "name": "python2"
  }
 },
 "nbformat": 4,
 "nbformat_minor": 0
}
