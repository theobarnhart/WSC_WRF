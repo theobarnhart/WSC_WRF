{
 "cells": [
  {
   "cell_type": "code",
   "execution_count": 1,
   "metadata": {
    "collapsed": false
   },
   "outputs": [],
   "source": [
    "import gdal as gdal\n",
    "import glob as glob"
   ]
  },
  {
   "cell_type": "code",
   "execution_count": 2,
   "metadata": {
    "collapsed": false
   },
   "outputs": [],
   "source": [
    "wfiles = glob.glob('./data/basin_index_rasters/HW/*.tif')"
   ]
  },
  {
   "cell_type": "code",
   "execution_count": 3,
   "metadata": {
    "collapsed": true
   },
   "outputs": [],
   "source": [
    "watersheds = []\n",
    "for fl in wfiles:\n",
    "    watersheds.append(int(fl.split('/')[-1].split('.')[0].split('_')[-1]))"
   ]
  },
  {
   "cell_type": "code",
   "execution_count": 4,
   "metadata": {
    "collapsed": false
   },
   "outputs": [
    {
     "data": {
      "text/plain": [
       "[10180001,\n",
       " 10180010,\n",
       " 10190001,\n",
       " 10190002,\n",
       " 10190004,\n",
       " 10190005,\n",
       " 10190006,\n",
       " 10190007,\n",
       " 11020001,\n",
       " 14010001,\n",
       " 14010002,\n",
       " 14010003,\n",
       " 14010004,\n",
       " 14020003]"
      ]
     },
     "execution_count": 4,
     "metadata": {},
     "output_type": "execute_result"
    }
   ],
   "source": [
    "watersheds"
   ]
  },
  {
   "cell_type": "code",
   "execution_count": 5,
   "metadata": {
    "collapsed": false
   },
   "outputs": [
    {
     "name": "stdout",
     "output_type": "stream",
     "text": [
      "229.3\n",
      "362.18\n",
      "258.1\n",
      "294.4\n",
      "91.33\n",
      "155.27\n",
      "133.15\n",
      "303.89\n",
      "490.3\n",
      "466.13\n",
      "109.24\n",
      "155.48\n",
      "232.59\n",
      "176.49\n"
     ]
    }
   ],
   "source": [
    "# generate a list containing all the cells and cell fractions for all the watersheds\n",
    "cells = []\n",
    "percents = []\n",
    "\n",
    "for fl in wfiles:\n",
    "    perc = []\n",
    "    ds = gdal.Open(fl)\n",
    "    rast = np.array(ds.GetRasterBand(1).ReadAsArray())\n",
    "    vals = np.unique(rast[rast!=-9999]) # grab unique value not equal to the no data value\n",
    "    \n",
    "    for val in vals:\n",
    "        num = len(rast[rast==val]) # grab the number of values equal to the value\n",
    "        cent = num/100. # divide by 100 to get the percent\n",
    "        perc.append(cent)\n",
    "        \n",
    "    cells.append(vals)\n",
    "    percents.append(perc)\n",
    "    print np.sum(perc)"
   ]
  },
  {
   "cell_type": "code",
   "execution_count": 6,
   "metadata": {
    "collapsed": false
   },
   "outputs": [
    {
     "data": {
      "text/plain": [
       "1.0"
      ]
     },
     "execution_count": 6,
     "metadata": {},
     "output_type": "execute_result"
    }
   ],
   "source": [
    "np.max(perc)"
   ]
  },
  {
   "cell_type": "code",
   "execution_count": 8,
   "metadata": {
    "collapsed": false
   },
   "outputs": [
    {
     "data": {
      "text/plain": [
       "(0.0, 180.0, 0.0, 250.0)"
      ]
     },
     "execution_count": 8,
     "metadata": {},
     "output_type": "execute_result"
    },
    {
     "data": {
      "image/png": "[encoded data removed]",
      "text/plain": [
       "<matplotlib.figure.Figure at 0x10cc8eb50>"
      ]
     },
     "metadata": {},
     "output_type": "display_data"
    }
   ],
   "source": [
    "plt.pcolormesh(rast,vmin=0)\n",
    "plt.axis('equal')"
   ]
  },
  {
   "cell_type": "code",
   "execution_count": 9,
   "metadata": {
    "collapsed": false
   },
   "outputs": [
    {
     "name": "stdout",
     "output_type": "stream",
     "text": [
      "215\n",
      "215\n"
     ]
    }
   ],
   "source": [
    "print len(cells[-1])\n",
    "print len(percents[-1])\n"
   ]
  },
  {
   "cell_type": "code",
   "execution_count": 10,
   "metadata": {
    "collapsed": false
   },
   "outputs": [
    {
     "data": {
      "text/plain": [
       "[10180001,\n",
       " 10180010,\n",
       " 10190001,\n",
       " 10190002,\n",
       " 10190004,\n",
       " 10190005,\n",
       " 10190006,\n",
       " 10190007,\n",
       " 11020001,\n",
       " 14010001,\n",
       " 14010002,\n",
       " 14010003,\n",
       " 14010004,\n",
       " 14020003]"
      ]
     },
     "execution_count": 10,
     "metadata": {},
     "output_type": "execute_result"
    }
   ],
   "source": [
    "watersheds"
   ]
  },
  {
   "cell_type": "code",
   "execution_count": 11,
   "metadata": {
    "collapsed": false
   },
   "outputs": [],
   "source": [
    "cells = np.array(cells)\n",
    "percents = np.array(percents)"
   ]
  },
  {
   "cell_type": "code",
   "execution_count": 12,
   "metadata": {
    "collapsed": false
   },
   "outputs": [],
   "source": [
    "np.savez('./data/HW_index_cells_by_basin.npz',watersheds = watersheds,cells = cells,percents = percents)"
   ]
  },
  {
   "cell_type": "code",
   "execution_count": 13,
   "metadata": {
    "collapsed": false
   },
   "outputs": [
    {
     "name": "stdout",
     "output_type": "stream",
     "text": [
      "total 1999528\r\n",
      "-rwx------  1 barnhatb  staff    70K Aug  8 11:42 \u001b[31mHW_index_cells_by_basin.npz\u001b[m\u001b[m\r\n",
      "drwx------  1 barnhatb  staff    16K Aug  8 11:24 \u001b[34mbasin_index_rasters\u001b[m\u001b[m\r\n",
      "-rwx------  1 barnhatb  staff    64M Aug  8 11:23 \u001b[31mWRF_headwaters_index_sm.tif\u001b[m\u001b[m\r\n",
      "-rwx------  1 barnhatb  staff   653K Aug  8 11:10 \u001b[31mWRF_headwaters_index.tif\u001b[m\u001b[m\r\n",
      "-rwx------  1 barnhatb  staff   4.7M Aug  8 11:08 \u001b[31mwrf_headwaters_index.dbf\u001b[m\u001b[m\r\n",
      "-rwx------  1 barnhatb  staff   2.2M Aug  8 11:08 \u001b[31mwrf_headwaters_index.shp\u001b[m\u001b[m\r\n",
      "-rwx------  1 barnhatb  staff   651K Aug  8 11:08 \u001b[31mwrf_headwaters_index.shx\u001b[m\u001b[m\r\n",
      "-rwx------  1 barnhatb  staff     5B Aug  8 11:08 \u001b[31mwrf_headwaters_index.cpg\u001b[m\u001b[m\r\n",
      "-rwx------  1 barnhatb  staff   436B Aug  8 11:08 \u001b[31mwrf_headwaters_index.prj\u001b[m\u001b[m\r\n",
      "-rwx------  1 barnhatb  staff   417B Aug  8 11:08 \u001b[31mwrf_headwaters_index.qpj\u001b[m\u001b[m\r\n",
      "-rwx------  1 barnhatb  staff   2.8M Aug  8 10:50 \u001b[31mwrf_headwaters_domain_xy_index.csv\u001b[m\u001b[m\r\n",
      "-rwx------  1 barnhatb  staff   3.5K Aug  5 15:35 \u001b[31mwrf_index_raster.tif.aux.xml\u001b[m\u001b[m\r\n",
      "-rwx------  1 barnhatb  staff   466K May  6 13:22 \u001b[31mprecip_wy2013.npz\u001b[m\u001b[m\r\n",
      "-rwx------  1 barnhatb  staff    52M May  6 13:22 \u001b[31mrain_wy2013.npz\u001b[m\u001b[m\r\n",
      "-rwx------  1 barnhatb  staff   466K May  6 13:21 \u001b[31mprecip_wy2012.npz\u001b[m\u001b[m\r\n",
      "-rwx------  1 barnhatb  staff    49M May  6 13:21 \u001b[31mrain_wy2012.npz\u001b[m\u001b[m\r\n",
      "-rwx------  1 barnhatb  staff   461K May  6 13:20 \u001b[31mprecip_wy2011.npz\u001b[m\u001b[m\r\n",
      "-rwx------  1 barnhatb  staff    54M May  6 13:20 \u001b[31mrain_wy2011.npz\u001b[m\u001b[m\r\n",
      "-rwx------  1 barnhatb  staff   446K May  6 13:19 \u001b[31mprecip_wy2010.npz\u001b[m\u001b[m\r\n",
      "-rwx------  1 barnhatb  staff    56M May  6 13:19 \u001b[31mrain_wy2010.npz\u001b[m\u001b[m\r\n",
      "-rwx------  1 barnhatb  staff   438K May  6 13:18 \u001b[31mprecip_wy2009.npz\u001b[m\u001b[m\r\n",
      "-rwx------  1 barnhatb  staff    55M May  6 13:18 \u001b[31mrain_wy2009.npz\u001b[m\u001b[m\r\n",
      "-rwx------  1 barnhatb  staff   460K May  6 13:17 \u001b[31mprecip_wy2008.npz\u001b[m\u001b[m\r\n",
      "-rwx------  1 barnhatb  staff    50M May  6 13:17 \u001b[31mrain_wy2008.npz\u001b[m\u001b[m\r\n",
      "-rwx------  1 barnhatb  staff   450K May  6 13:16 \u001b[31mprecip_wy2007.npz\u001b[m\u001b[m\r\n",
      "-rwx------  1 barnhatb  staff    57M May  6 13:16 \u001b[31mrain_wy2007.npz\u001b[m\u001b[m\r\n",
      "-rwx------  1 barnhatb  staff   463K May  6 13:15 \u001b[31mprecip_wy2006.npz\u001b[m\u001b[m\r\n",
      "-rwx------  1 barnhatb  staff    55M May  6 13:15 \u001b[31mrain_wy2006.npz\u001b[m\u001b[m\r\n",
      "-rwx------  1 barnhatb  staff   421K May  6 13:15 \u001b[31mprecip_wy2005.npz\u001b[m\u001b[m\r\n",
      "-rwx------  1 barnhatb  staff    64M May  6 13:15 \u001b[31mrain_wy2005.npz\u001b[m\u001b[m\r\n",
      "-rwx------  1 barnhatb  staff   445K May  6 13:14 \u001b[31mprecip_wy2004.npz\u001b[m\u001b[m\r\n",
      "-rwx------  1 barnhatb  staff    58M May  6 13:14 \u001b[31mrain_wy2004.npz\u001b[m\u001b[m\r\n",
      "-rwx------  1 barnhatb  staff   443K May  6 13:13 \u001b[31mprecip_wy2003.npz\u001b[m\u001b[m\r\n",
      "-rwx------  1 barnhatb  staff    56M May  6 13:13 \u001b[31mrain_wy2003.npz\u001b[m\u001b[m\r\n",
      "-rwx------  1 barnhatb  staff   634K May  6 13:12 \u001b[31mprecip_wy2002.npz\u001b[m\u001b[m\r\n",
      "-rwx------  1 barnhatb  staff    47M May  6 13:12 \u001b[31mrain_wy2002.npz\u001b[m\u001b[m\r\n",
      "-rwx------  1 barnhatb  staff    63M May  6 11:43 \u001b[31mwrf_data.df\u001b[m\u001b[m\r\n",
      "-rwx------  1 barnhatb  staff    97K May  6 11:07 \u001b[31mgroundwater_wy2011.npz\u001b[m\u001b[m\r\n",
      "-rwx------  1 barnhatb  staff    70K May  6 11:07 \u001b[31mgroundwater_wy2012.npz\u001b[m\u001b[m\r\n",
      "-rwx------  1 barnhatb  staff    88K May  6 11:07 \u001b[31mgroundwater_wy2013.npz\u001b[m\u001b[m\r\n",
      "-rwx------  1 barnhatb  staff   281K May  6 11:07 \u001b[31mrunoff_wy2012.npz\u001b[m\u001b[m\r\n",
      "-rwx------  1 barnhatb  staff   284K May  6 11:07 \u001b[31mrunoff_wy2013.npz\u001b[m\u001b[m\r\n",
      "-rwx------  1 barnhatb  staff   184K May  6 11:07 \u001b[31mgroundwater_wy2009.npz\u001b[m\u001b[m\r\n",
      "-rwx------  1 barnhatb  staff    72K May  6 11:07 \u001b[31mgroundwater_wy2010.npz\u001b[m\u001b[m\r\n",
      "-rwx------  1 barnhatb  staff   287K May  6 11:07 \u001b[31mrunoff_wy2009.npz\u001b[m\u001b[m\r\n",
      "-rwx------  1 barnhatb  staff   288K May  6 11:07 \u001b[31mrunoff_wy2010.npz\u001b[m\u001b[m\r\n",
      "-rwx------  1 barnhatb  staff   283K May  6 11:07 \u001b[31mrunoff_wy2011.npz\u001b[m\u001b[m\r\n",
      "-rwx------  1 barnhatb  staff    78K May  6 11:07 \u001b[31mgroundwater_wy2006.npz\u001b[m\u001b[m\r\n",
      "-rwx------  1 barnhatb  staff    87K May  6 11:07 \u001b[31mgroundwater_wy2007.npz\u001b[m\u001b[m\r\n",
      "-rwx------  1 barnhatb  staff    67K May  6 11:07 \u001b[31mgroundwater_wy2008.npz\u001b[m\u001b[m\r\n",
      "-rwx------  1 barnhatb  staff   293K May  6 11:07 \u001b[31mrunoff_wy2006.npz\u001b[m\u001b[m\r\n",
      "-rwx------  1 barnhatb  staff   294K May  6 11:07 \u001b[31mrunoff_wy2007.npz\u001b[m\u001b[m\r\n",
      "-rwx------  1 barnhatb  staff   289K May  6 11:07 \u001b[31mrunoff_wy2008.npz\u001b[m\u001b[m\r\n",
      "-rwx------  1 barnhatb  staff   199K May  6 11:07 \u001b[31mgroundwater_wy2003.npz\u001b[m\u001b[m\r\n",
      "-rwx------  1 barnhatb  staff    66K May  6 11:07 \u001b[31mgroundwater_wy2004.npz\u001b[m\u001b[m\r\n",
      "-rwx------  1 barnhatb  staff   109K May  6 11:07 \u001b[31mgroundwater_wy2005.npz\u001b[m\u001b[m\r\n",
      "-rwx------  1 barnhatb  staff   297K May  6 11:07 \u001b[31mrunoff_wy2003.npz\u001b[m\u001b[m\r\n",
      "-rwx------  1 barnhatb  staff   296K May  6 11:07 \u001b[31mrunoff_wy2004.npz\u001b[m\u001b[m\r\n",
      "-rwx------  1 barnhatb  staff   293K May  6 11:07 \u001b[31mrunoff_wy2005.npz\u001b[m\u001b[m\r\n",
      "-rwx------  1 barnhatb  staff   199K May  6 11:07 \u001b[31mgroundwater_wy2002.npz\u001b[m\u001b[m\r\n",
      "-rwx------  1 barnhatb  staff   296K May  6 11:07 \u001b[31mrunoff_wy2002.npz\u001b[m\u001b[m\r\n",
      "-rwx------  1 barnhatb  staff   5.2M May  4 10:38 \u001b[31msnowmelt_wy2013.npz\u001b[m\u001b[m\r\n",
      "-rwx------  1 barnhatb  staff   5.1M May  4 10:38 \u001b[31msnowmelt_wy2012.npz\u001b[m\u001b[m\r\n",
      "-rwx------  1 barnhatb  staff   7.5M May  4 10:37 \u001b[31msnowmelt_wy2011.npz\u001b[m\u001b[m\r\n",
      "-rwx------  1 barnhatb  staff   7.6M May  4 10:37 \u001b[31msnowmelt_wy2010.npz\u001b[m\u001b[m\r\n",
      "-rwx------  1 barnhatb  staff   5.9M May  4 10:37 \u001b[31msnowmelt_wy2009.npz\u001b[m\u001b[m\r\n",
      "-rwx------  1 barnhatb  staff   6.3M May  4 10:36 \u001b[31msnowmelt_wy2008.npz\u001b[m\u001b[m\r\n",
      "-rwx------  1 barnhatb  staff   5.8M May  4 10:36 \u001b[31msnowmelt_wy2007.npz\u001b[m\u001b[m\r\n",
      "-rwx------  1 barnhatb  staff   5.6M May  4 10:36 \u001b[31msnowmelt_wy2006.npz\u001b[m\u001b[m\r\n",
      "-rwx------  1 barnhatb  staff   6.9M May  4 10:35 \u001b[31msnowmelt_wy2005.npz\u001b[m\u001b[m\r\n",
      "-rwx------  1 barnhatb  staff   5.9M May  4 10:35 \u001b[31msnowmelt_wy2004.npz\u001b[m\u001b[m\r\n",
      "-rwx------  1 barnhatb  staff   5.3M May  4 10:35 \u001b[31msnowmelt_wy2003.npz\u001b[m\u001b[m\r\n",
      "-rwx------  1 barnhatb  staff   4.5M May  4 10:34 \u001b[31msnowmelt_wy2002.npz\u001b[m\u001b[m\r\n",
      "-rwx------  1 barnhatb  staff   675K May  2 11:19 \u001b[31mprocessedrain_wy2013.npy\u001b[m\u001b[m\r\n",
      "-rwx------  1 barnhatb  staff   675K May  2 11:19 \u001b[31mprocessedsnowmelt_wy2013.npy\u001b[m\u001b[m\r\n",
      "-rwx------  1 barnhatb  staff   675K May  2 11:19 \u001b[31mwaterflux_wy2013.npy\u001b[m\u001b[m\r\n",
      "-rwx------  1 barnhatb  staff   675K May  2 11:19 \u001b[31mprocessedrain_wy2012.npy\u001b[m\u001b[m\r\n",
      "-rwx------  1 barnhatb  staff   675K May  2 11:19 \u001b[31mprocessedsnowmelt_wy2012.npy\u001b[m\u001b[m\r\n",
      "-rwx------  1 barnhatb  staff   675K May  2 11:19 \u001b[31mwaterflux_wy2012.npy\u001b[m\u001b[m\r\n",
      "-rwx------  1 barnhatb  staff   675K May  2 11:19 \u001b[31mprocessedrain_wy2011.npy\u001b[m\u001b[m\r\n",
      "-rwx------  1 barnhatb  staff   675K May  2 11:19 \u001b[31mprocessedsnowmelt_wy2011.npy\u001b[m\u001b[m\r\n",
      "-rwx------  1 barnhatb  staff   675K May  2 11:19 \u001b[31mwaterflux_wy2011.npy\u001b[m\u001b[m\r\n",
      "-rwx------  1 barnhatb  staff   675K May  2 11:18 \u001b[31mprocessedrain_wy2010.npy\u001b[m\u001b[m\r\n",
      "-rwx------  1 barnhatb  staff   675K May  2 11:18 \u001b[31mprocessedsnowmelt_wy2010.npy\u001b[m\u001b[m\r\n",
      "-rwx------  1 barnhatb  staff   675K May  2 11:18 \u001b[31mwaterflux_wy2010.npy\u001b[m\u001b[m\r\n",
      "-rwx------  1 barnhatb  staff   675K May  2 11:18 \u001b[31mprocessedrain_wy2009.npy\u001b[m\u001b[m\r\n",
      "-rwx------  1 barnhatb  staff   675K May  2 11:18 \u001b[31mprocessedsnowmelt_wy2009.npy\u001b[m\u001b[m\r\n",
      "-rwx------  1 barnhatb  staff   675K May  2 11:18 \u001b[31mwaterflux_wy2009.npy\u001b[m\u001b[m\r\n",
      "-rwx------  1 barnhatb  staff   675K May  2 11:18 \u001b[31mprocessedrain_wy2008.npy\u001b[m\u001b[m\r\n",
      "-rwx------  1 barnhatb  staff   675K May  2 11:18 \u001b[31mprocessedsnowmelt_wy2008.npy\u001b[m\u001b[m\r\n",
      "-rwx------  1 barnhatb  staff   675K May  2 11:18 \u001b[31mwaterflux_wy2008.npy\u001b[m\u001b[m\r\n",
      "-rwx------  1 barnhatb  staff   675K May  2 11:18 \u001b[31mprocessedrain_wy2007.npy\u001b[m\u001b[m\r\n",
      "-rwx------  1 barnhatb  staff   675K May  2 11:18 \u001b[31mprocessedsnowmelt_wy2007.npy\u001b[m\u001b[m\r\n",
      "-rwx------  1 barnhatb  staff   675K May  2 11:18 \u001b[31mwaterflux_wy2007.npy\u001b[m\u001b[m\r\n",
      "-rwx------  1 barnhatb  staff   675K May  2 11:18 \u001b[31mprocessedrain_wy2006.npy\u001b[m\u001b[m\r\n",
      "-rwx------  1 barnhatb  staff   675K May  2 11:18 \u001b[31mprocessedsnowmelt_wy2006.npy\u001b[m\u001b[m\r\n",
      "-rwx------  1 barnhatb  staff   675K May  2 11:18 \u001b[31mwaterflux_wy2006.npy\u001b[m\u001b[m\r\n",
      "-rwx------  1 barnhatb  staff   675K May  2 11:18 \u001b[31mprocessedrain_wy2005.npy\u001b[m\u001b[m\r\n",
      "-rwx------  1 barnhatb  staff   675K May  2 11:18 \u001b[31mprocessedsnowmelt_wy2005.npy\u001b[m\u001b[m\r\n",
      "-rwx------  1 barnhatb  staff   675K May  2 11:18 \u001b[31mwaterflux_wy2005.npy\u001b[m\u001b[m\r\n",
      "-rwx------  1 barnhatb  staff   675K May  2 11:18 \u001b[31mprocessedrain_wy2004.npy\u001b[m\u001b[m\r\n",
      "-rwx------  1 barnhatb  staff   675K May  2 11:18 \u001b[31mprocessedsnowmelt_wy2004.npy\u001b[m\u001b[m\r\n",
      "-rwx------  1 barnhatb  staff   675K May  2 11:18 \u001b[31mwaterflux_wy2004.npy\u001b[m\u001b[m\r\n",
      "-rwx------  1 barnhatb  staff   675K May  2 11:18 \u001b[31mprocessedrain_wy2003.npy\u001b[m\u001b[m\r\n",
      "-rwx------  1 barnhatb  staff   675K May  2 11:18 \u001b[31mprocessedsnowmelt_wy2003.npy\u001b[m\u001b[m\r\n",
      "-rwx------  1 barnhatb  staff   675K May  2 11:18 \u001b[31mwaterflux_wy2003.npy\u001b[m\u001b[m\r\n",
      "-rwx------  1 barnhatb  staff   675K May  2 11:18 \u001b[31mprocessedrain_wy2002.npy\u001b[m\u001b[m\r\n",
      "-rwx------  1 barnhatb  staff   675K May  2 11:18 \u001b[31mprocessedsnowmelt_wy2002.npy\u001b[m\u001b[m\r\n",
      "-rwx------  1 barnhatb  staff   675K May  2 11:18 \u001b[31mwaterflux_wy2002.npy\u001b[m\u001b[m\r\n",
      "-rwx------  1 barnhatb  staff    68K Apr 25 11:35 \u001b[31mindex_cells_by_basin.npz\u001b[m\u001b[m\r\n",
      "-rwx------  1 barnhatb  staff   3.0K Apr 21 18:41 \u001b[31mwrf_index_raster_sm.tif.aux.xml\u001b[m\u001b[m\r\n",
      "-rwx------  1 barnhatb  staff    66M Apr 21 18:11 \u001b[31mwrf_index_raster_sm.tif\u001b[m\u001b[m\r\n",
      "-rwx------  1 barnhatb  staff   676K Apr 21 18:10 \u001b[31mwrf_index_raster.tif\u001b[m\u001b[m\r\n",
      "-rwx------  1 barnhatb  staff   2.3M Apr 21 18:05 \u001b[31mindex_coords.shp\u001b[m\u001b[m\r\n",
      "-rwx------  1 barnhatb  staff   675K Apr 21 18:05 \u001b[31mindex_coords.shx\u001b[m\u001b[m\r\n",
      "-rwx------  1 barnhatb  staff   6.0M Apr 21 18:05 \u001b[31mindex_coords.dbf\u001b[m\u001b[m\r\n",
      "-rwx------  1 barnhatb  staff   416B Apr 21 18:05 \u001b[31mindex_coords.qpj\u001b[m\u001b[m\r\n",
      "-rwx------  1 barnhatb  staff   435B Apr 21 18:05 \u001b[31mindex_coords.prj\u001b[m\u001b[m\r\n",
      "-rwx------  1 barnhatb  staff   3.0M Apr 21 17:52 \u001b[31mindex_coords.csv\u001b[m\u001b[m\r\n",
      "-rwx------  1 barnhatb  staff   675K Apr 21 17:51 \u001b[31mindex.npy\u001b[m\u001b[m\r\n",
      "-rwx------  1 barnhatb  staff   672B Apr 21 16:13 \u001b[31mindex_cells_by_basin.npy.npz\u001b[m\u001b[m\r\n",
      "-rwx------  1 barnhatb  staff   192B Apr 19 10:45 \u001b[31mindex_cells_by_basin.npy\u001b[m\u001b[m\r\n"
     ]
    }
   ],
   "source": [
    "!ls -lth ./data/"
   ]
  }
 ],
 "metadata": {
  "kernelspec": {
   "display_name": "Python 2",
   "language": "python",
   "name": "python2"
  },
  "language_info": {
   "codemirror_mode": {
    "name": "ipython",
    "version": 2
   },
   "file_extension": ".py",
   "mimetype": "text/x-python",
   "name": "python",
   "nbconvert_exporter": "python",
   "pygments_lexer": "ipython2",
   "version": "2.7.11"
  }
 },
 "nbformat": 4,
 "nbformat_minor": 0
}
