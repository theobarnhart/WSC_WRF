{
 "cells": [
  {
   "cell_type": "code",
   "execution_count": 1,
   "metadata": {
    "collapsed": true
   },
   "outputs": [],
   "source": [
    "import os"
   ]
  },
  {
   "cell_type": "code",
   "execution_count": 2,
   "metadata": {
    "collapsed": true
   },
   "outputs": [],
   "source": [
    "dr = pd.date_range(start='2000-10-1',end='2008-12-31',freq='D')"
   ]
  },
  {
   "cell_type": "code",
   "execution_count": 28,
   "metadata": {
    "collapsed": false
   },
   "outputs": [],
   "source": [
    "missing_ave = []\n",
    "missing_full = []\n",
    "for dt in dr:\n",
    "    fl = '/Volumes/data/wrf/HW/PGW/wrfout_d01_%s_00:00:00.nc_thinned_ave.nc'%(dt.date())\n",
    "    \n",
    "    if os.path.exists(fl) == False:\n",
    "        missing_ave.append(fl)\n",
    "        missing_full.append(fl[:-15])"
   ]
  },
  {
   "cell_type": "code",
   "execution_count": 29,
   "metadata": {
    "collapsed": false
   },
   "outputs": [
    {
     "data": {
      "text/plain": [
       "['/Volumes/data/wrf/HW/PGW/wrfout_d01_2001-08-31_00:00:00.nc',\n",
       " '/Volumes/data/wrf/HW/PGW/wrfout_d01_2001-10-01_00:00:00.nc',\n",
       " '/Volumes/data/wrf/HW/PGW/wrfout_d01_2001-10-02_00:00:00.nc',\n",
       " '/Volumes/data/wrf/HW/PGW/wrfout_d01_2001-10-03_00:00:00.nc',\n",
       " '/Volumes/data/wrf/HW/PGW/wrfout_d01_2001-10-04_00:00:00.nc',\n",
       " '/Volumes/data/wrf/HW/PGW/wrfout_d01_2001-10-05_00:00:00.nc',\n",
       " '/Volumes/data/wrf/HW/PGW/wrfout_d01_2001-10-06_00:00:00.nc',\n",
       " '/Volumes/data/wrf/HW/PGW/wrfout_d01_2001-10-07_00:00:00.nc',\n",
       " '/Volumes/data/wrf/HW/PGW/wrfout_d01_2001-10-08_00:00:00.nc',\n",
       " '/Volumes/data/wrf/HW/PGW/wrfout_d01_2001-10-09_00:00:00.nc',\n",
       " '/Volumes/data/wrf/HW/PGW/wrfout_d01_2001-10-10_00:00:00.nc',\n",
       " '/Volumes/data/wrf/HW/PGW/wrfout_d01_2001-10-11_00:00:00.nc',\n",
       " '/Volumes/data/wrf/HW/PGW/wrfout_d01_2001-10-12_00:00:00.nc',\n",
       " '/Volumes/data/wrf/HW/PGW/wrfout_d01_2001-10-13_00:00:00.nc',\n",
       " '/Volumes/data/wrf/HW/PGW/wrfout_d01_2001-10-14_00:00:00.nc',\n",
       " '/Volumes/data/wrf/HW/PGW/wrfout_d01_2001-10-15_00:00:00.nc',\n",
       " '/Volumes/data/wrf/HW/PGW/wrfout_d01_2001-10-16_00:00:00.nc',\n",
       " '/Volumes/data/wrf/HW/PGW/wrfout_d01_2001-10-17_00:00:00.nc',\n",
       " '/Volumes/data/wrf/HW/PGW/wrfout_d01_2001-10-18_00:00:00.nc',\n",
       " '/Volumes/data/wrf/HW/PGW/wrfout_d01_2001-10-19_00:00:00.nc',\n",
       " '/Volumes/data/wrf/HW/PGW/wrfout_d01_2001-10-20_00:00:00.nc',\n",
       " '/Volumes/data/wrf/HW/PGW/wrfout_d01_2001-10-21_00:00:00.nc',\n",
       " '/Volumes/data/wrf/HW/PGW/wrfout_d01_2001-10-22_00:00:00.nc',\n",
       " '/Volumes/data/wrf/HW/PGW/wrfout_d01_2001-10-23_00:00:00.nc',\n",
       " '/Volumes/data/wrf/HW/PGW/wrfout_d01_2001-10-24_00:00:00.nc',\n",
       " '/Volumes/data/wrf/HW/PGW/wrfout_d01_2001-10-25_00:00:00.nc',\n",
       " '/Volumes/data/wrf/HW/PGW/wrfout_d01_2001-10-26_00:00:00.nc',\n",
       " '/Volumes/data/wrf/HW/PGW/wrfout_d01_2001-10-27_00:00:00.nc',\n",
       " '/Volumes/data/wrf/HW/PGW/wrfout_d01_2001-10-28_00:00:00.nc',\n",
       " '/Volumes/data/wrf/HW/PGW/wrfout_d01_2001-10-29_00:00:00.nc',\n",
       " '/Volumes/data/wrf/HW/PGW/wrfout_d01_2001-10-30_00:00:00.nc',\n",
       " '/Volumes/data/wrf/HW/PGW/wrfout_d01_2001-10-31_00:00:00.nc',\n",
       " '/Volumes/data/wrf/HW/PGW/wrfout_d01_2001-11-01_00:00:00.nc',\n",
       " '/Volumes/data/wrf/HW/PGW/wrfout_d01_2001-11-02_00:00:00.nc',\n",
       " '/Volumes/data/wrf/HW/PGW/wrfout_d01_2001-11-03_00:00:00.nc',\n",
       " '/Volumes/data/wrf/HW/PGW/wrfout_d01_2001-11-04_00:00:00.nc',\n",
       " '/Volumes/data/wrf/HW/PGW/wrfout_d01_2001-11-05_00:00:00.nc',\n",
       " '/Volumes/data/wrf/HW/PGW/wrfout_d01_2001-11-06_00:00:00.nc',\n",
       " '/Volumes/data/wrf/HW/PGW/wrfout_d01_2001-11-07_00:00:00.nc',\n",
       " '/Volumes/data/wrf/HW/PGW/wrfout_d01_2001-11-08_00:00:00.nc',\n",
       " '/Volumes/data/wrf/HW/PGW/wrfout_d01_2001-11-09_00:00:00.nc',\n",
       " '/Volumes/data/wrf/HW/PGW/wrfout_d01_2001-11-10_00:00:00.nc',\n",
       " '/Volumes/data/wrf/HW/PGW/wrfout_d01_2001-11-11_00:00:00.nc',\n",
       " '/Volumes/data/wrf/HW/PGW/wrfout_d01_2001-11-12_00:00:00.nc',\n",
       " '/Volumes/data/wrf/HW/PGW/wrfout_d01_2001-11-13_00:00:00.nc',\n",
       " '/Volumes/data/wrf/HW/PGW/wrfout_d01_2001-11-14_00:00:00.nc',\n",
       " '/Volumes/data/wrf/HW/PGW/wrfout_d01_2001-11-15_00:00:00.nc',\n",
       " '/Volumes/data/wrf/HW/PGW/wrfout_d01_2001-11-16_00:00:00.nc',\n",
       " '/Volumes/data/wrf/HW/PGW/wrfout_d01_2001-11-17_00:00:00.nc',\n",
       " '/Volumes/data/wrf/HW/PGW/wrfout_d01_2001-11-18_00:00:00.nc',\n",
       " '/Volumes/data/wrf/HW/PGW/wrfout_d01_2001-11-19_00:00:00.nc',\n",
       " '/Volumes/data/wrf/HW/PGW/wrfout_d01_2001-11-20_00:00:00.nc',\n",
       " '/Volumes/data/wrf/HW/PGW/wrfout_d01_2001-11-21_00:00:00.nc',\n",
       " '/Volumes/data/wrf/HW/PGW/wrfout_d01_2001-11-22_00:00:00.nc',\n",
       " '/Volumes/data/wrf/HW/PGW/wrfout_d01_2001-11-23_00:00:00.nc']"
      ]
     },
     "execution_count": 29,
     "metadata": {},
     "output_type": "execute_result"
    }
   ],
   "source": [
    "missing_full"
   ]
  },
  {
   "cell_type": "code",
   "execution_count": 32,
   "metadata": {
    "collapsed": false
   },
   "outputs": [
    {
     "data": {
      "text/plain": [
       "'wrfout_d01_2001-08-31_00:00:00.nc'"
      ]
     },
     "execution_count": 32,
     "metadata": {},
     "output_type": "execute_result"
    }
   ],
   "source": [
    "fl = missing_full[0]\n",
    "fl.split('/')[-1]"
   ]
  },
  {
   "cell_type": "code",
   "execution_count": 42,
   "metadata": {
    "collapsed": false
   },
   "outputs": [],
   "source": [
    "prepend = '/KYOKO/wrf/snowpack/HW2010/PGW/hydro/'\n",
    "\n",
    "f = open('./get_PGW_missing.sh', 'w')\n",
    "for fl in missing_full:\n",
    "    f.write('%s%s\\n'%(prepend,fl.split('/')[-1]))\n",
    "    \n",
    "f.close()"
   ]
  },
  {
   "cell_type": "code",
   "execution_count": 36,
   "metadata": {
    "collapsed": false
   },
   "outputs": [
    {
     "name": "stdout",
     "output_type": "stream",
     "text": [
      "total 3552040\r\n",
      "-rwx------@ 1 barnhatb  staff    37M Oct 21  2013 \u001b[31mgeo_em_new_4km_grid.d01.nc\u001b[m\u001b[m\r\n",
      "-rwx------@ 1 barnhatb  staff   959M Jan 21  2016 \u001b[31mSWE_daily.nc\u001b[m\u001b[m\r\n",
      "drwx------@ 1 barnhatb  staff    16K Feb  4  2016 \u001b[34mGeo_Info_WRF_Headwaters\u001b[m\u001b[m\r\n",
      "-rwx------  1 barnhatb  staff   631M Feb  9  2016 \u001b[31mgeo_em.d01.nc\u001b[m\u001b[m\r\n",
      "-rwx------  1 barnhatb  staff   5.3M Feb  9  2016 \u001b[31mXLAT_M.tiff\u001b[m\u001b[m\r\n",
      "-rwx------  1 barnhatb  staff   6.9K Feb  9  2016 \u001b[31mXLAT_M.tiff.aux.xml\u001b[m\u001b[m\r\n",
      "-rwx------@ 1 barnhatb  staff   920B Feb  9  2016 \u001b[31mcompute_daily_means.sh\u001b[m\u001b[m\r\n",
      "drwx------  1 barnhatb  staff    16K Feb 15  2016 \u001b[34mclip\u001b[m\u001b[m\r\n",
      "-rwx------  1 barnhatb  staff   5.0K Feb 17  2016 \u001b[31mconvert points using basemap_proj.ipynb\u001b[m\u001b[m\r\n",
      "-rwx------  1 barnhatb  staff   4.5M Feb 17  2016 \u001b[31mwrf2d_d01_2001-07-05_thinned_crop.nc\u001b[m\u001b[m\r\n",
      "-rwx------  1 barnhatb  staff   5.0K Feb 17  2016 \u001b[31mkevins code.ipynb\u001b[m\u001b[m\r\n",
      "-rwx------  1 barnhatb  staff    41M Feb 17  2016 \u001b[31mgeo_em.d01_crop.nc\u001b[m\u001b[m\r\n",
      "-rwx------  1 barnhatb  staff   365K Feb 20  2016 \u001b[31mkevin_plotting_doms_box.ipynb\u001b[m\u001b[m\r\n",
      "drwx------  1 barnhatb  staff    16K Feb 22  2016 \u001b[34mmissing_files\u001b[m\u001b[m\r\n",
      "-rwx------  1 barnhatb  staff   6.2K Feb 22  2016 \u001b[31mmissing.np.npy\u001b[m\u001b[m\r\n",
      "-rwx------  1 barnhatb  staff   1.8K Feb 24 09:43 \u001b[31maverage_missing_files.ipynb\u001b[m\u001b[m\r\n",
      "-rwx------  1 barnhatb  staff   120K Feb 24 13:57 \u001b[31mcompute_doms_indices.ipynb\u001b[m\u001b[m\r\n",
      "-rwx------@ 1 barnhatb  staff   907B Mar  1 15:10 \u001b[31mcrop_wrf.sh\u001b[m\u001b[m\r\n",
      "drwx------  1 barnhatb  staff    16K Mar  8 12:19 \u001b[34mannual\u001b[m\u001b[m\r\n",
      "-rwx------  1 barnhatb  staff   1.3K Mar  9 07:57 \u001b[31mcheck_precip.ipynb\u001b[m\u001b[m\r\n",
      "-rwx------  1 barnhatb  staff     0B Mar  9 14:55 \u001b[31mnohup.out\u001b[m\u001b[m\r\n",
      "-rwx------  1 barnhatb  staff    13K May  3 10:43 \u001b[31mcalculate_water_flux.ipynb\u001b[m\u001b[m\r\n",
      "-rwx------  1 barnhatb  staff    43K May  3 14:44 \u001b[31mtest hourly accumulations.ipynb\u001b[m\u001b[m\r\n",
      "-rwx------@ 1 barnhatb  staff   1.1K May  5 10:43 \u001b[31mcrop_wrf_precip.sh\u001b[m\u001b[m\r\n",
      "-rwx------  1 barnhatb  staff    21K May  5 10:48 \u001b[31mp_crop.out\u001b[m\u001b[m\r\n",
      "-rwx------  1 barnhatb  staff   808K May 24 10:07 \u001b[31mgridded runoff ratios.ipynb\u001b[m\u001b[m\r\n",
      "-rwx------  1 barnhatb  staff   880K May 25 10:34 \u001b[31mDiff accumulated gridded runoff ratios.ipynb\u001b[m\u001b[m\r\n",
      "-rwx------  1 barnhatb  staff   148K Jun  6 17:21 \u001b[31mcell_centers_from_DEM.ipynb\u001b[m\u001b[m\r\n",
      "-rwx------@ 1 barnhatb  staff    52M Jun  6 17:22 \u001b[31mgeo_em.d01_crop2.nc\u001b[m\u001b[m\r\n",
      "-rwx------  1 barnhatb  staff   2.0K Jul 20 15:30 \u001b[31mUntitled.ipynb\u001b[m\u001b[m\r\n",
      "-rwx------@ 1 barnhatb  staff   385K Jul 22 13:58 \u001b[31mwrf_headwaters_dem.tif\u001b[m\u001b[m\r\n",
      "-rwx------  1 barnhatb  staff   591K Aug  8 10:12 \u001b[31mplot_doms_box.ipynb\u001b[m\u001b[m\r\n",
      "-rwx------@ 1 barnhatb  staff   1.2K Aug  8 11:26 \u001b[31mcrop_wrf_to_huc8.sh\u001b[m\u001b[m\r\n",
      "-rwx------  1 barnhatb  staff    25K Aug  8 11:42 \u001b[31mgrab_watershed_cells.ipynb\u001b[m\u001b[m\r\n",
      "-rwx------  1 barnhatb  staff   9.9K Aug  9 10:45 \u001b[31mprocessed netCDF to Data Frame CONUS.ipynb\u001b[m\u001b[m\r\n",
      "-rwx------  1 barnhatb  staff    12K Aug  9 14:27 \u001b[31mUntitled1.ipynb\u001b[m\u001b[m\r\n",
      "-rwx------@ 1 barnhatb  staff   262B Aug  9 17:26 \u001b[31maverage_WRF_HW.sh\u001b[m\u001b[m\r\n",
      "-rwx------  1 barnhatb  staff   5.6K Aug 10 17:59 \u001b[31mgenerate_wrf_headwaters_run_index_raster.ipynb\u001b[m\u001b[m\r\n",
      "-rwx------@ 1 barnhatb  staff   2.4K Aug 19 16:48 \u001b[31mtransfer_missing_hw.sh\u001b[m\u001b[m\r\n",
      "-rwx------@ 1 barnhatb  staff   3.6K Aug 20 09:47 \u001b[31maverage_missing_data.sh\u001b[m\u001b[m\r\n",
      "-rwx------  1 barnhatb  staff   151K Aug 22 11:12 \u001b[31mprocessed netCDF to Data Frame HW CTRL.ipynb\u001b[m\u001b[m\r\n",
      "drwx------  1 barnhatb  staff    16K Aug 22 11:31 \u001b[34mdata\u001b[m\u001b[m\r\n",
      "-rwx------  1 barnhatb  staff   153K Aug 22 11:35 \u001b[31mprocessed netCDF to Data Frame HW PGW.ipynb\u001b[m\u001b[m\r\n",
      "drwx------  1 barnhatb  staff    16K Aug 22 12:04 \u001b[34mfigures\u001b[m\u001b[m\r\n",
      "-rwx------  1 barnhatb  staff   337K Aug 22 14:21 \u001b[31mextract_watershed_data.ipynb\u001b[m\u001b[m\r\n",
      "-rwx------  1 barnhatb  staff   2.6K Aug 24 08:49 \u001b[31mget_PGW_missing.sh\u001b[m\u001b[m\r\n",
      "-rwx------  1 barnhatb  staff   6.4K Aug 24 08:49 \u001b[31mUntitled2.ipynb\u001b[m\u001b[m\r\n"
     ]
    }
   ],
   "source": [
    "!ls -ltrh"
   ]
  },
  {
   "cell_type": "code",
   "execution_count": null,
   "metadata": {
    "collapsed": true
   },
   "outputs": [],
   "source": []
  }
 ],
 "metadata": {
  "kernelspec": {
   "display_name": "Python 2",
   "language": "python",
   "name": "python2"
  },
  "language_info": {
   "codemirror_mode": {
    "name": "ipython",
    "version": 2
   },
   "file_extension": ".py",
   "mimetype": "text/x-python",
   "name": "python",
   "nbconvert_exporter": "python",
   "pygments_lexer": "ipython2",
   "version": "2.7.11"
  }
 },
 "nbformat": 4,
 "nbformat_minor": 0
}
