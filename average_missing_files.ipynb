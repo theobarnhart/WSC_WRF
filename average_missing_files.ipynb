{
 "cells": [
  {
   "cell_type": "code",
   "execution_count": 28,
   "metadata": {
    "collapsed": true
   },
   "outputs": [],
   "source": [
    "import numpy as np\n",
    "import pandas as pd\n",
    "import os"
   ]
  },
  {
   "cell_type": "code",
   "execution_count": 4,
   "metadata": {
    "collapsed": true
   },
   "outputs": [],
   "source": [
    "files = np.load('/glade/u/home/theob/missing_files_2001.npy') # set path to missing files"
   ]
  },
  {
   "cell_type": "code",
   "execution_count": 19,
   "metadata": {
    "collapsed": false
   },
   "outputs": [],
   "source": [
    "dates = []\n",
    "for fl in files:\n",
    "    dates.append(pd.datetime.strptime(fl[10:20],'%Y-%m-%d'))"
   ]
  },
  {
   "cell_type": "code",
   "execution_count": 26,
   "metadata": {
    "collapsed": false
   },
   "outputs": [],
   "source": [
    "head = \"ncra -O /glade/scratch/gutmann/conus_runs/CTRL\"\n",
    "outpth = \"/glade/u/home/theob/scratch/averages/\"\n",
    "for dt in dates:\n",
    "    # create in and out filenames based on date\n",
    "    ifln = \"%02d/wrf2d_d01_%02d-%02d-%02d_*:00:00_thinned.nc \" % (dt.year,dt.year,dt.month,dt.day)\n",
    "    tfln = \"%02d/wrf2d_d01_%02d-%02d-%02d_thinned.nc\" % (dt.year,dt.year,dt.month,dt.day)\n",
    "    \n",
    "    # generate bash command\n",
    "    cmd = head+ifln+outpth+tfln\n",
    "    os.system(cmd) # submit to shell"
   ]
  }
 ],
 "metadata": {
  "kernelspec": {
   "display_name": "Python 2",
   "language": "python",
   "name": "python2"
  },
  "language_info": {
   "codemirror_mode": {
    "name": "ipython",
    "version": 2
   },
   "file_extension": ".py",
   "mimetype": "text/x-python",
   "name": "python",
   "nbconvert_exporter": "python",
   "pygments_lexer": "ipython2",
   "version": "2.7.11"
  }
 },
 "nbformat": 4,
 "nbformat_minor": 0
}
