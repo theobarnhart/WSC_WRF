{
 "cells": [
  {
   "cell_type": "code",
   "execution_count": 2,
   "metadata": {
    "collapsed": false
   },
   "outputs": [
    {
     "name": "stdout",
     "output_type": "stream",
     "text": [
      "2002\n",
      "2003\n",
      "2004\n",
      "2005\n",
      "2006\n",
      "2007\n",
      "2008\n",
      "2009\n",
      "2010\n",
      "2011\n",
      "2012\n",
      "2013\n"
     ]
    }
   ],
   "source": [
    "# compute water flux for each water year of data\n",
    "\n",
    "wateryears = np.arange(2002,2014)\n",
    "\n",
    "for year in wateryears:\n",
    "\n",
    "    rain = np.load('./data/rain_wy%s.npz'%(year))['arr_0']\n",
    "    snowmelt = np.load('./data/snowmelt_wy%s.npz'%(year))['arr_0']\n",
    "    \n",
    "    wflux = rain+snowmelt # compute water flux as snowmelt + rainfall\n",
    "    wflux[snowmelt<=0] = np.nan # Force cells where snowmelt is less than or equal to zero to nan\n",
    "    wflux = np.nanmean(wflux,axis=0) # compute mean of the stack\n",
    "    wflux[np.isnan(wflux)] = 0 # make the nan values zero\n",
    "    \n",
    "    rain[rain<=0] = np.nan\n",
    "    rain = np.nanmean(rain,axis=0)\n",
    "    rain[np.isnan(rain)] = 0\n",
    "    \n",
    "    snowmelt[snowmelt<=0] = np.nan\n",
    "    snowmelt = np.nanmean(snowmelt,axis=0)\n",
    "    snowmelt[np.isnan(snowmelt)] = 0\n",
    "    \n",
    "    np.save('./data/waterflux_wy%s.npy'%(year),wflux)\n",
    "    np.save('./data/processedsnowmelt_wy%s.npy'%(year),snowmelt)\n",
    "    np.save('./data/processedrain_wy%s.npy'%(year),rain)\n",
    "\n",
    "    print year\n",
    "    "
   ]
  },
  {
   "cell_type": "code",
   "execution_count": 46,
   "metadata": {
    "collapsed": false
   },
   "outputs": [
    {
     "data": {
      "text/plain": [
       "<matplotlib.colorbar.Colorbar at 0x1347b3a90>"
      ]
     },
     "execution_count": 46,
     "metadata": {},
     "output_type": "execute_result"
    },
    {
     "data": {
      "image/png": "[encoded data removed]",
      "text/plain": [
       "<matplotlib.figure.Figure at 0x1335e3290>"
      ]
     },
     "metadata": {},
     "output_type": "display_data"
    }
   ],
   "source": [
    "plt.pcolormesh(wflux,vmin=0.01,vmax=wflux.max())\n",
    "plt.axis('equal')\n",
    "plt.colorbar()"
   ]
  },
  {
   "cell_type": "code",
   "execution_count": null,
   "metadata": {
    "collapsed": true
   },
   "outputs": [],
   "source": []
  }
 ],
 "metadata": {
  "kernelspec": {
   "display_name": "Python 2",
   "language": "python",
   "name": "python2"
  },
  "language_info": {
   "codemirror_mode": {
    "name": "ipython",
    "version": 2
   },
   "file_extension": ".py",
   "mimetype": "text/x-python",
   "name": "python",
   "nbconvert_exporter": "python",
   "pygments_lexer": "ipython2",
   "version": "2.7.11"
  }
 },
 "nbformat": 4,
 "nbformat_minor": 0
}
